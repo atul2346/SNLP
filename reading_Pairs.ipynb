{
 "cells": [
  {
   "cell_type": "code",
   "execution_count": 1,
   "metadata": {
    "collapsed": true
   },
   "outputs": [],
   "source": [
    "from collections import defaultdict\n",
    "from copy import deepcopy\n",
    "import string\n",
    "import re\n",
    "\n",
    "## Punctuation remover\n",
    "translator = str.maketrans('', '', string.punctuation)\n",
    "## regex for finding sloka number\n",
    "regex = r\"(\\d+)\\-(\\d+)\\-(\\d+)\" \n",
    "\n",
    "# ANy is the prose, Slo is the sloka\n",
    "slpAny = [item.split() for item in open('slpAny.txt').read().splitlines()]\n",
    "slpSlo = [item.split() for item in open('slpSlo.txt').read().splitlines()]"
   ]
  },
  {
   "cell_type": "code",
   "execution_count": 4,
   "metadata": {
    "collapsed": true
   },
   "outputs": [],
   "source": [
    "sloAnv = defaultdict(dict)\n",
    "for i,item in enumerate(slpSlo):\n",
    "    if item[0].isnumeric() == False:\n",
    "        print (item)\n",
    "        \n",
    "    sloAnv[int(item[0])]['slo'] = list()\n",
    "    for stuff in item[1:]:\n",
    "        match = re.search(regex, stuff)\n",
    "        if match is not None:\n",
    "            if match.start() != 0:\n",
    "                stuff2 = re.sub(regex,'',stuff)\n",
    "\n",
    "            elif match.end()!= len(stuff):\n",
    "                stuff2 = re.sub(regex,'',stuff)\n",
    "        else:\n",
    "            stuff2 = stuff\n",
    "        \n",
    "        stuff2 = stuff2.strip().translate(translator).strip()\n",
    "        if len(stuff2) > 0:\n",
    "            sloAnv[int(item[0])]['slo'].append(stuff2)\n",
    "for item in slpAny:\n",
    "    if item[0].isnumeric() == False:\n",
    "        print ('anv',item)\n",
    "        \n",
    "    sloAnv[int(item[0])]['anv'] = [stuff.strip().translate(translator).strip() for stuff in item[1:]]"
   ]
  },
  {
   "cell_type": "code",
   "execution_count": 5,
   "metadata": {},
   "outputs": [
    {
     "name": "stdout",
     "output_type": "stream",
     "text": [
      "Poetry is ['evam', 'uktvA', 'tu', 'paruzam', 'mArIco', 'rAvaRam', 'tataH', 'gacCAvaH', 'iti', 'abravIt', 'dIno', 'BayAt', 'rAtrim', 'cara', 'praBoH']\n",
      "Prose is ['tataH', 'mArIcaH', 'evam', 'paruzam', 'uktvA', 'tu', 'rAtrim', 'cara', 'praBoH', 'BayAt', 'dInaH', 'gacCAvaH', 'iti', 'rAvaRam', 'abravIt']\n"
     ]
    }
   ],
   "source": [
    "# for first line\n",
    "\n",
    "#Poetry\n",
    "print(\"Poetry is\",sloAnv[0]['slo'])\n",
    "\n",
    "\n",
    "# Prose\n",
    "print(\"Prose is\",sloAnv[0]['anv'])\n"
   ]
  }
 ],
 "metadata": {
  "kernelspec": {
   "display_name": "Python 3",
   "language": "python",
   "name": "python3"
  },
  "language_info": {
   "codemirror_mode": {
    "name": "ipython",
    "version": 3
   },
   "file_extension": ".py",
   "mimetype": "text/x-python",
   "name": "python",
   "nbconvert_exporter": "python",
   "pygments_lexer": "ipython3",
   "version": "3.6.0"
  }
 },
 "nbformat": 4,
 "nbformat_minor": 2
}
